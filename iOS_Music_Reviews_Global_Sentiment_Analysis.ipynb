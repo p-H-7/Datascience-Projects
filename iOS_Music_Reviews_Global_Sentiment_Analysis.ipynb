{
  "metadata": {
    "kernelspec": {
      "language": "python",
      "display_name": "Python 3",
      "name": "python3"
    },
    "language_info": {
      "name": "python",
      "version": "3.11.11",
      "mimetype": "text/x-python",
      "codemirror_mode": {
        "name": "ipython",
        "version": 3
      },
      "pygments_lexer": "ipython3",
      "nbconvert_exporter": "python",
      "file_extension": ".py"
    },
    "kaggle": {
      "accelerator": "none",
      "dataSources": [
        {
          "sourceId": 11920654,
          "sourceType": "datasetVersion",
          "datasetId": 7494334
        }
      ],
      "dockerImageVersionId": 31040,
      "isInternetEnabled": true,
      "language": "python",
      "sourceType": "notebook",
      "isGpuEnabled": false
    },
    "colab": {
      "provenance": []
    }
  },
  "nbformat_minor": 0,
  "nbformat": 4,
  "cells": [
    {
      "cell_type": "markdown",
      "source": [
        "# Loading data"
      ],
      "metadata": {
        "id": "NC1RItcKaBkJ"
      }
    },
    {
      "cell_type": "code",
      "source": [
        "!pip install langdetect emoji"
      ],
      "metadata": {
        "trusted": true,
        "_kg_hide-output": true,
        "_kg_hide-input": true,
        "execution": {
          "iopub.status.busy": "2025-05-23T11:47:20.920068Z",
          "iopub.execute_input": "2025-05-23T11:47:20.920387Z",
          "iopub.status.idle": "2025-05-23T11:47:24.302033Z",
          "shell.execute_reply.started": "2025-05-23T11:47:20.920365Z",
          "shell.execute_reply": "2025-05-23T11:47:24.300896Z"
        },
        "id": "fd4JYBdbaBkK",
        "colab": {
          "base_uri": "https://localhost:8080/"
        },
        "outputId": "e410149c-fca3-4032-b6fc-62c29564f0e6"
      },
      "outputs": [
        {
          "output_type": "stream",
          "name": "stdout",
          "text": [
            "Collecting langdetect\n",
            "  Downloading langdetect-1.0.9.tar.gz (981 kB)\n",
            "\u001b[2K     \u001b[90m━━━━━━━━━━━━━━━━━━━━━━━━━━━━━━━━━━━━━━\u001b[0m \u001b[32m981.5/981.5 kB\u001b[0m \u001b[31m12.2 MB/s\u001b[0m eta \u001b[36m0:00:00\u001b[0m\n",
            "\u001b[?25h  Preparing metadata (setup.py) ... \u001b[?25l\u001b[?25hdone\n",
            "Collecting emoji\n",
            "  Downloading emoji-2.14.1-py3-none-any.whl.metadata (5.7 kB)\n",
            "Requirement already satisfied: six in /usr/local/lib/python3.11/dist-packages (from langdetect) (1.17.0)\n",
            "Downloading emoji-2.14.1-py3-none-any.whl (590 kB)\n",
            "\u001b[2K   \u001b[90m━━━━━━━━━━━━━━━━━━━━━━━━━━━━━━━━━━━━━━━━\u001b[0m \u001b[32m590.6/590.6 kB\u001b[0m \u001b[31m41.6 MB/s\u001b[0m eta \u001b[36m0:00:00\u001b[0m\n",
            "\u001b[?25hBuilding wheels for collected packages: langdetect\n",
            "  Building wheel for langdetect (setup.py) ... \u001b[?25l\u001b[?25hdone\n",
            "  Created wheel for langdetect: filename=langdetect-1.0.9-py3-none-any.whl size=993223 sha256=40c0587063e9ebda4b003d95e00c0da931641ca0f3e77710a4975accc1e06047\n",
            "  Stored in directory: /root/.cache/pip/wheels/0a/f2/b2/e5ca405801e05eb7c8ed5b3b4bcf1fcabcd6272c167640072e\n",
            "Successfully built langdetect\n",
            "Installing collected packages: langdetect, emoji\n",
            "Successfully installed emoji-2.14.1 langdetect-1.0.9\n"
          ]
        }
      ],
      "execution_count": 1
    },
    {
      "cell_type": "code",
      "source": [
        "import pandas as pd\n",
        "import numpy as np\n",
        "import matplotlib.pyplot as plt\n",
        "import seaborn as sns\n",
        "import datetime as dt\n",
        "import emoji\n",
        "\n",
        "from sklearn.feature_extraction.text import CountVectorizer\n",
        "from langdetect import detect\n",
        "from nltk.sentiment import SentimentIntensityAnalyzer\n",
        "from collections import Counter\n",
        "from wordcloud import WordCloud\n",
        "import nltk\n",
        "import warnings\n",
        "warnings.filterwarnings('ignore')\n",
        "nltk.download('vader_lexicon')"
      ],
      "metadata": {
        "trusted": true,
        "execution": {
          "iopub.status.busy": "2025-05-23T11:47:24.303654Z",
          "iopub.execute_input": "2025-05-23T11:47:24.303945Z",
          "iopub.status.idle": "2025-05-23T11:47:24.312833Z",
          "shell.execute_reply.started": "2025-05-23T11:47:24.303919Z",
          "shell.execute_reply": "2025-05-23T11:47:24.31208Z"
        },
        "_kg_hide-output": true,
        "id": "ur-jpQQCaBkK",
        "colab": {
          "base_uri": "https://localhost:8080/"
        },
        "outputId": "1586641d-e87c-4967-8b62-921763366e75"
      },
      "outputs": [
        {
          "output_type": "stream",
          "name": "stderr",
          "text": [
            "[nltk_data] Downloading package vader_lexicon to /root/nltk_data...\n"
          ]
        },
        {
          "output_type": "execute_result",
          "data": {
            "text/plain": [
              "True"
            ]
          },
          "metadata": {},
          "execution_count": 2
        }
      ],
      "execution_count": 2
    },
    {
      "cell_type": "code",
      "source": [
        "file_path = \"/content/app_store_music_reviews.csv\"\n",
        "df = pd.read_csv(file_path)\n",
        "df = df.dropna(subset=[\"review\", \"rating\", \"date\"])\n",
        "df[\"date\"] = pd.to_datetime(df[\"date\"])\n",
        "df[\"rating\"] = df[\"rating\"].astype(int)\n",
        "df = df[df[\"rating\"].between(1, 5)]\n",
        "df.head()"
      ],
      "metadata": {
        "trusted": true,
        "execution": {
          "iopub.status.busy": "2025-05-23T11:47:24.313701Z",
          "iopub.execute_input": "2025-05-23T11:47:24.314011Z",
          "iopub.status.idle": "2025-05-23T11:47:24.428232Z",
          "shell.execute_reply.started": "2025-05-23T11:47:24.313985Z",
          "shell.execute_reply": "2025-05-23T11:47:24.427406Z"
        },
        "id": "9jMUVw-daBkL",
        "colab": {
          "base_uri": "https://localhost:8080/",
          "height": 293
        },
        "outputId": "e98b52b3-eda2-40b2-bdfe-fe289f986383"
      },
      "outputs": [
        {
          "output_type": "execute_result",
          "data": {
            "text/plain": [
              "           app country                                              title  \\\n",
              "0      Spotify      MX  Muy buena aplicación de música. Casi sin anunc...   \n",
              "1   SoundCloud      US                     I have loved you from day 1 bi   \n",
              "2      Spotify      MX                                            Los amo   \n",
              "3       Deezer      US      Must have a premium account to download music   \n",
              "4  Apple Music      US                                             4 star   \n",
              "\n",
              "                                              review  rating  \\\n",
              "0                                                 La       5   \n",
              "1  Nah fr tho, omm nothing but love for SoundClou...       5   \n",
              "2                                            Los amo       5   \n",
              "3  I got this music app so I could download songs...       1   \n",
              "4  I tunes don’t have all the songs like to liste...       4   \n",
              "\n",
              "                       date  \n",
              "0 2025-05-21 18:57:56-07:00  \n",
              "1 2025-05-21 18:56:41-07:00  \n",
              "2 2025-05-21 18:56:12-07:00  \n",
              "3 2025-05-21 18:50:34-07:00  \n",
              "4 2025-05-21 18:50:04-07:00  "
            ],
            "text/html": [
              "\n",
              "  <div id=\"df-8cc3990e-3d69-4062-b20b-ef0862c7d2ca\" class=\"colab-df-container\">\n",
              "    <div>\n",
              "<style scoped>\n",
              "    .dataframe tbody tr th:only-of-type {\n",
              "        vertical-align: middle;\n",
              "    }\n",
              "\n",
              "    .dataframe tbody tr th {\n",
              "        vertical-align: top;\n",
              "    }\n",
              "\n",
              "    .dataframe thead th {\n",
              "        text-align: right;\n",
              "    }\n",
              "</style>\n",
              "<table border=\"1\" class=\"dataframe\">\n",
              "  <thead>\n",
              "    <tr style=\"text-align: right;\">\n",
              "      <th></th>\n",
              "      <th>app</th>\n",
              "      <th>country</th>\n",
              "      <th>title</th>\n",
              "      <th>review</th>\n",
              "      <th>rating</th>\n",
              "      <th>date</th>\n",
              "    </tr>\n",
              "  </thead>\n",
              "  <tbody>\n",
              "    <tr>\n",
              "      <th>0</th>\n",
              "      <td>Spotify</td>\n",
              "      <td>MX</td>\n",
              "      <td>Muy buena aplicación de música. Casi sin anunc...</td>\n",
              "      <td>La</td>\n",
              "      <td>5</td>\n",
              "      <td>2025-05-21 18:57:56-07:00</td>\n",
              "    </tr>\n",
              "    <tr>\n",
              "      <th>1</th>\n",
              "      <td>SoundCloud</td>\n",
              "      <td>US</td>\n",
              "      <td>I have loved you from day 1 bi</td>\n",
              "      <td>Nah fr tho, omm nothing but love for SoundClou...</td>\n",
              "      <td>5</td>\n",
              "      <td>2025-05-21 18:56:41-07:00</td>\n",
              "    </tr>\n",
              "    <tr>\n",
              "      <th>2</th>\n",
              "      <td>Spotify</td>\n",
              "      <td>MX</td>\n",
              "      <td>Los amo</td>\n",
              "      <td>Los amo</td>\n",
              "      <td>5</td>\n",
              "      <td>2025-05-21 18:56:12-07:00</td>\n",
              "    </tr>\n",
              "    <tr>\n",
              "      <th>3</th>\n",
              "      <td>Deezer</td>\n",
              "      <td>US</td>\n",
              "      <td>Must have a premium account to download music</td>\n",
              "      <td>I got this music app so I could download songs...</td>\n",
              "      <td>1</td>\n",
              "      <td>2025-05-21 18:50:34-07:00</td>\n",
              "    </tr>\n",
              "    <tr>\n",
              "      <th>4</th>\n",
              "      <td>Apple Music</td>\n",
              "      <td>US</td>\n",
              "      <td>4 star</td>\n",
              "      <td>I tunes don’t have all the songs like to liste...</td>\n",
              "      <td>4</td>\n",
              "      <td>2025-05-21 18:50:04-07:00</td>\n",
              "    </tr>\n",
              "  </tbody>\n",
              "</table>\n",
              "</div>\n",
              "    <div class=\"colab-df-buttons\">\n",
              "\n",
              "  <div class=\"colab-df-container\">\n",
              "    <button class=\"colab-df-convert\" onclick=\"convertToInteractive('df-8cc3990e-3d69-4062-b20b-ef0862c7d2ca')\"\n",
              "            title=\"Convert this dataframe to an interactive table.\"\n",
              "            style=\"display:none;\">\n",
              "\n",
              "  <svg xmlns=\"http://www.w3.org/2000/svg\" height=\"24px\" viewBox=\"0 -960 960 960\">\n",
              "    <path d=\"M120-120v-720h720v720H120Zm60-500h600v-160H180v160Zm220 220h160v-160H400v160Zm0 220h160v-160H400v160ZM180-400h160v-160H180v160Zm440 0h160v-160H620v160ZM180-180h160v-160H180v160Zm440 0h160v-160H620v160Z\"/>\n",
              "  </svg>\n",
              "    </button>\n",
              "\n",
              "  <style>\n",
              "    .colab-df-container {\n",
              "      display:flex;\n",
              "      gap: 12px;\n",
              "    }\n",
              "\n",
              "    .colab-df-convert {\n",
              "      background-color: #E8F0FE;\n",
              "      border: none;\n",
              "      border-radius: 50%;\n",
              "      cursor: pointer;\n",
              "      display: none;\n",
              "      fill: #1967D2;\n",
              "      height: 32px;\n",
              "      padding: 0 0 0 0;\n",
              "      width: 32px;\n",
              "    }\n",
              "\n",
              "    .colab-df-convert:hover {\n",
              "      background-color: #E2EBFA;\n",
              "      box-shadow: 0px 1px 2px rgba(60, 64, 67, 0.3), 0px 1px 3px 1px rgba(60, 64, 67, 0.15);\n",
              "      fill: #174EA6;\n",
              "    }\n",
              "\n",
              "    .colab-df-buttons div {\n",
              "      margin-bottom: 4px;\n",
              "    }\n",
              "\n",
              "    [theme=dark] .colab-df-convert {\n",
              "      background-color: #3B4455;\n",
              "      fill: #D2E3FC;\n",
              "    }\n",
              "\n",
              "    [theme=dark] .colab-df-convert:hover {\n",
              "      background-color: #434B5C;\n",
              "      box-shadow: 0px 1px 3px 1px rgba(0, 0, 0, 0.15);\n",
              "      filter: drop-shadow(0px 1px 2px rgba(0, 0, 0, 0.3));\n",
              "      fill: #FFFFFF;\n",
              "    }\n",
              "  </style>\n",
              "\n",
              "    <script>\n",
              "      const buttonEl =\n",
              "        document.querySelector('#df-8cc3990e-3d69-4062-b20b-ef0862c7d2ca button.colab-df-convert');\n",
              "      buttonEl.style.display =\n",
              "        google.colab.kernel.accessAllowed ? 'block' : 'none';\n",
              "\n",
              "      async function convertToInteractive(key) {\n",
              "        const element = document.querySelector('#df-8cc3990e-3d69-4062-b20b-ef0862c7d2ca');\n",
              "        const dataTable =\n",
              "          await google.colab.kernel.invokeFunction('convertToInteractive',\n",
              "                                                    [key], {});\n",
              "        if (!dataTable) return;\n",
              "\n",
              "        const docLinkHtml = 'Like what you see? Visit the ' +\n",
              "          '<a target=\"_blank\" href=https://colab.research.google.com/notebooks/data_table.ipynb>data table notebook</a>'\n",
              "          + ' to learn more about interactive tables.';\n",
              "        element.innerHTML = '';\n",
              "        dataTable['output_type'] = 'display_data';\n",
              "        await google.colab.output.renderOutput(dataTable, element);\n",
              "        const docLink = document.createElement('div');\n",
              "        docLink.innerHTML = docLinkHtml;\n",
              "        element.appendChild(docLink);\n",
              "      }\n",
              "    </script>\n",
              "  </div>\n",
              "\n",
              "\n",
              "    <div id=\"df-014f5bdc-514a-499c-a470-ff2be2ac6b71\">\n",
              "      <button class=\"colab-df-quickchart\" onclick=\"quickchart('df-014f5bdc-514a-499c-a470-ff2be2ac6b71')\"\n",
              "                title=\"Suggest charts\"\n",
              "                style=\"display:none;\">\n",
              "\n",
              "<svg xmlns=\"http://www.w3.org/2000/svg\" height=\"24px\"viewBox=\"0 0 24 24\"\n",
              "     width=\"24px\">\n",
              "    <g>\n",
              "        <path d=\"M19 3H5c-1.1 0-2 .9-2 2v14c0 1.1.9 2 2 2h14c1.1 0 2-.9 2-2V5c0-1.1-.9-2-2-2zM9 17H7v-7h2v7zm4 0h-2V7h2v10zm4 0h-2v-4h2v4z\"/>\n",
              "    </g>\n",
              "</svg>\n",
              "      </button>\n",
              "\n",
              "<style>\n",
              "  .colab-df-quickchart {\n",
              "      --bg-color: #E8F0FE;\n",
              "      --fill-color: #1967D2;\n",
              "      --hover-bg-color: #E2EBFA;\n",
              "      --hover-fill-color: #174EA6;\n",
              "      --disabled-fill-color: #AAA;\n",
              "      --disabled-bg-color: #DDD;\n",
              "  }\n",
              "\n",
              "  [theme=dark] .colab-df-quickchart {\n",
              "      --bg-color: #3B4455;\n",
              "      --fill-color: #D2E3FC;\n",
              "      --hover-bg-color: #434B5C;\n",
              "      --hover-fill-color: #FFFFFF;\n",
              "      --disabled-bg-color: #3B4455;\n",
              "      --disabled-fill-color: #666;\n",
              "  }\n",
              "\n",
              "  .colab-df-quickchart {\n",
              "    background-color: var(--bg-color);\n",
              "    border: none;\n",
              "    border-radius: 50%;\n",
              "    cursor: pointer;\n",
              "    display: none;\n",
              "    fill: var(--fill-color);\n",
              "    height: 32px;\n",
              "    padding: 0;\n",
              "    width: 32px;\n",
              "  }\n",
              "\n",
              "  .colab-df-quickchart:hover {\n",
              "    background-color: var(--hover-bg-color);\n",
              "    box-shadow: 0 1px 2px rgba(60, 64, 67, 0.3), 0 1px 3px 1px rgba(60, 64, 67, 0.15);\n",
              "    fill: var(--button-hover-fill-color);\n",
              "  }\n",
              "\n",
              "  .colab-df-quickchart-complete:disabled,\n",
              "  .colab-df-quickchart-complete:disabled:hover {\n",
              "    background-color: var(--disabled-bg-color);\n",
              "    fill: var(--disabled-fill-color);\n",
              "    box-shadow: none;\n",
              "  }\n",
              "\n",
              "  .colab-df-spinner {\n",
              "    border: 2px solid var(--fill-color);\n",
              "    border-color: transparent;\n",
              "    border-bottom-color: var(--fill-color);\n",
              "    animation:\n",
              "      spin 1s steps(1) infinite;\n",
              "  }\n",
              "\n",
              "  @keyframes spin {\n",
              "    0% {\n",
              "      border-color: transparent;\n",
              "      border-bottom-color: var(--fill-color);\n",
              "      border-left-color: var(--fill-color);\n",
              "    }\n",
              "    20% {\n",
              "      border-color: transparent;\n",
              "      border-left-color: var(--fill-color);\n",
              "      border-top-color: var(--fill-color);\n",
              "    }\n",
              "    30% {\n",
              "      border-color: transparent;\n",
              "      border-left-color: var(--fill-color);\n",
              "      border-top-color: var(--fill-color);\n",
              "      border-right-color: var(--fill-color);\n",
              "    }\n",
              "    40% {\n",
              "      border-color: transparent;\n",
              "      border-right-color: var(--fill-color);\n",
              "      border-top-color: var(--fill-color);\n",
              "    }\n",
              "    60% {\n",
              "      border-color: transparent;\n",
              "      border-right-color: var(--fill-color);\n",
              "    }\n",
              "    80% {\n",
              "      border-color: transparent;\n",
              "      border-right-color: var(--fill-color);\n",
              "      border-bottom-color: var(--fill-color);\n",
              "    }\n",
              "    90% {\n",
              "      border-color: transparent;\n",
              "      border-bottom-color: var(--fill-color);\n",
              "    }\n",
              "  }\n",
              "</style>\n",
              "\n",
              "      <script>\n",
              "        async function quickchart(key) {\n",
              "          const quickchartButtonEl =\n",
              "            document.querySelector('#' + key + ' button');\n",
              "          quickchartButtonEl.disabled = true;  // To prevent multiple clicks.\n",
              "          quickchartButtonEl.classList.add('colab-df-spinner');\n",
              "          try {\n",
              "            const charts = await google.colab.kernel.invokeFunction(\n",
              "                'suggestCharts', [key], {});\n",
              "          } catch (error) {\n",
              "            console.error('Error during call to suggestCharts:', error);\n",
              "          }\n",
              "          quickchartButtonEl.classList.remove('colab-df-spinner');\n",
              "          quickchartButtonEl.classList.add('colab-df-quickchart-complete');\n",
              "        }\n",
              "        (() => {\n",
              "          let quickchartButtonEl =\n",
              "            document.querySelector('#df-014f5bdc-514a-499c-a470-ff2be2ac6b71 button');\n",
              "          quickchartButtonEl.style.display =\n",
              "            google.colab.kernel.accessAllowed ? 'block' : 'none';\n",
              "        })();\n",
              "      </script>\n",
              "    </div>\n",
              "\n",
              "    </div>\n",
              "  </div>\n"
            ],
            "application/vnd.google.colaboratory.intrinsic+json": {
              "type": "dataframe",
              "variable_name": "df",
              "summary": "{\n  \"name\": \"df\",\n  \"rows\": 5640,\n  \"fields\": [\n    {\n      \"column\": \"app\",\n      \"properties\": {\n        \"dtype\": \"category\",\n        \"num_unique_values\": 6,\n        \"samples\": [\n          \"Spotify\",\n          \"SoundCloud\",\n          \"TIDAL\"\n        ],\n        \"semantic_type\": \"\",\n        \"description\": \"\"\n      }\n    },\n    {\n      \"column\": \"country\",\n      \"properties\": {\n        \"dtype\": \"category\",\n        \"num_unique_values\": 20,\n        \"samples\": [\n          \"MX\",\n          \"KR\",\n          \"FI\"\n        ],\n        \"semantic_type\": \"\",\n        \"description\": \"\"\n      }\n    },\n    {\n      \"column\": \"title\",\n      \"properties\": {\n        \"dtype\": \"string\",\n        \"num_unique_values\": 4788,\n        \"samples\": [\n          \"\\u52a9\\u3051\\u3066\",\n          \"Excelente app\",\n          \"Magique !\\u00a0\"\n        ],\n        \"semantic_type\": \"\",\n        \"description\": \"\"\n      }\n    },\n    {\n      \"column\": \"review\",\n      \"properties\": {\n        \"dtype\": \"string\",\n        \"num_unique_values\": 5540,\n        \"samples\": [\n          \"\\u0e09\\u0e31\\u0e19\\u0e23\\u0e31\\u0e01\\u0e17\\u0e35\\u0e48\\u0e08\\u0e30\\u0e1f\\u0e31\\u0e07\\u0e40\\u0e1e\\u0e25\\u0e07\\u0e21\\u0e35\\u0e41\\u0e15\\u0e48\\u0e40\\u0e1e\\u0e25\\u0e07\\u0e40\\u0e1e\\u0e23\\u0e32\\u0e30\\u0e46\",\n          \"The Nest\",\n          \"Utrolig bra lyd\"\n        ],\n        \"semantic_type\": \"\",\n        \"description\": \"\"\n      }\n    },\n    {\n      \"column\": \"rating\",\n      \"properties\": {\n        \"dtype\": \"number\",\n        \"std\": 1,\n        \"min\": 1,\n        \"max\": 5,\n        \"num_unique_values\": 5,\n        \"samples\": [\n          1,\n          3,\n          4\n        ],\n        \"semantic_type\": \"\",\n        \"description\": \"\"\n      }\n    },\n    {\n      \"column\": \"date\",\n      \"properties\": {\n        \"dtype\": \"date\",\n        \"min\": \"2010-06-07 00:46:35-07:00\",\n        \"max\": \"2025-05-21 18:57:56-07:00\",\n        \"num_unique_values\": 5637,\n        \"samples\": [\n          \"2025-05-03 04:04:59-07:00\",\n          \"2025-05-19 03:52:14-07:00\",\n          \"2025-05-10 14:58:01-07:00\"\n        ],\n        \"semantic_type\": \"\",\n        \"description\": \"\"\n      }\n    }\n  ]\n}"
            }
          },
          "metadata": {},
          "execution_count": 3
        }
      ],
      "execution_count": 3
    },
    {
      "cell_type": "markdown",
      "source": [
        "# Language Detection\n",
        "We use `langdetect` to estimate the primary language of each review. This helps uncover how multilingual feedback varies across countries, and whether sentiment is influenced by regional expression styles."
      ],
      "metadata": {
        "id": "0TscGZ5GaBkL"
      }
    },
    {
      "cell_type": "code",
      "source": [
        "def detect_language(text):\n",
        "    try:\n",
        "        return detect(text)\n",
        "    except:\n",
        "        return \"unknown\"\n",
        "\n",
        "sample = df.sample(1000, random_state=1)  # quick test\n",
        "sample[\"lang\"] = sample[\"review\"].apply(detect_language)\n",
        "sample[\"lang\"].value_counts().head(10)"
      ],
      "metadata": {
        "trusted": true,
        "execution": {
          "iopub.status.busy": "2025-05-23T11:47:24.429848Z",
          "iopub.execute_input": "2025-05-23T11:47:24.430062Z",
          "iopub.status.idle": "2025-05-23T11:47:27.741227Z",
          "shell.execute_reply.started": "2025-05-23T11:47:24.430046Z",
          "shell.execute_reply": "2025-05-23T11:47:27.740324Z"
        },
        "id": "X3I-FrHUaBkM",
        "colab": {
          "base_uri": "https://localhost:8080/",
          "height": 429
        },
        "outputId": "2098c7c5-04c8-4d3e-91e8-294cb6655a15"
      },
      "outputs": [
        {
          "output_type": "execute_result",
          "data": {
            "text/plain": [
              "lang\n",
              "en    398\n",
              "es     91\n",
              "fr     58\n",
              "pt     44\n",
              "ja     44\n",
              "de     41\n",
              "it     40\n",
              "ru     34\n",
              "ko     34\n",
              "pl     31\n",
              "Name: count, dtype: int64"
            ],
            "text/html": [
              "<div>\n",
              "<style scoped>\n",
              "    .dataframe tbody tr th:only-of-type {\n",
              "        vertical-align: middle;\n",
              "    }\n",
              "\n",
              "    .dataframe tbody tr th {\n",
              "        vertical-align: top;\n",
              "    }\n",
              "\n",
              "    .dataframe thead th {\n",
              "        text-align: right;\n",
              "    }\n",
              "</style>\n",
              "<table border=\"1\" class=\"dataframe\">\n",
              "  <thead>\n",
              "    <tr style=\"text-align: right;\">\n",
              "      <th></th>\n",
              "      <th>count</th>\n",
              "    </tr>\n",
              "    <tr>\n",
              "      <th>lang</th>\n",
              "      <th></th>\n",
              "    </tr>\n",
              "  </thead>\n",
              "  <tbody>\n",
              "    <tr>\n",
              "      <th>en</th>\n",
              "      <td>398</td>\n",
              "    </tr>\n",
              "    <tr>\n",
              "      <th>es</th>\n",
              "      <td>91</td>\n",
              "    </tr>\n",
              "    <tr>\n",
              "      <th>fr</th>\n",
              "      <td>58</td>\n",
              "    </tr>\n",
              "    <tr>\n",
              "      <th>pt</th>\n",
              "      <td>44</td>\n",
              "    </tr>\n",
              "    <tr>\n",
              "      <th>ja</th>\n",
              "      <td>44</td>\n",
              "    </tr>\n",
              "    <tr>\n",
              "      <th>de</th>\n",
              "      <td>41</td>\n",
              "    </tr>\n",
              "    <tr>\n",
              "      <th>it</th>\n",
              "      <td>40</td>\n",
              "    </tr>\n",
              "    <tr>\n",
              "      <th>ru</th>\n",
              "      <td>34</td>\n",
              "    </tr>\n",
              "    <tr>\n",
              "      <th>ko</th>\n",
              "      <td>34</td>\n",
              "    </tr>\n",
              "    <tr>\n",
              "      <th>pl</th>\n",
              "      <td>31</td>\n",
              "    </tr>\n",
              "  </tbody>\n",
              "</table>\n",
              "</div><br><label><b>dtype:</b> int64</label>"
            ]
          },
          "metadata": {},
          "execution_count": 4
        }
      ],
      "execution_count": 4
    },
    {
      "cell_type": "markdown",
      "source": [
        "This lets us estimate how many non-English reviews are in each country's feed — a valuable insight for global UX."
      ],
      "metadata": {
        "id": "FAqP7MGkaBkN"
      }
    },
    {
      "cell_type": "markdown",
      "source": [
        "# Sentiment Scoring\n",
        "VADER is a lexicon-based sentiment analysis tool optimized for short, informal text like user reviews. It returns a \"compound\" score from -1 to 1: we’ll use this to classify reviews as broadly positive or negative."
      ],
      "metadata": {
        "id": "StnvZp0IaBkN"
      }
    },
    {
      "cell_type": "code",
      "source": [
        "sia = SentimentIntensityAnalyzer()\n",
        "df[\"sentiment\"] = df[\"review\"].apply(lambda x: sia.polarity_scores(x)[\"compound\"])\n",
        "df.head()"
      ],
      "metadata": {
        "trusted": true,
        "execution": {
          "iopub.status.busy": "2025-05-23T11:47:27.742082Z",
          "iopub.execute_input": "2025-05-23T11:47:27.742293Z",
          "iopub.status.idle": "2025-05-23T11:47:29.081091Z",
          "shell.execute_reply.started": "2025-05-23T11:47:27.742276Z",
          "shell.execute_reply": "2025-05-23T11:47:29.080159Z"
        },
        "id": "k5o86hg4aBkO",
        "colab": {
          "base_uri": "https://localhost:8080/",
          "height": 293
        },
        "outputId": "a9e1378f-076a-4606-b1c6-b18e96753b28"
      },
      "outputs": [
        {
          "output_type": "execute_result",
          "data": {
            "text/plain": [
              "           app country                                              title  \\\n",
              "0      Spotify      MX  Muy buena aplicación de música. Casi sin anunc...   \n",
              "1   SoundCloud      US                     I have loved you from day 1 bi   \n",
              "2      Spotify      MX                                            Los amo   \n",
              "3       Deezer      US      Must have a premium account to download music   \n",
              "4  Apple Music      US                                             4 star   \n",
              "\n",
              "                                              review  rating  \\\n",
              "0                                                 La       5   \n",
              "1  Nah fr tho, omm nothing but love for SoundClou...       5   \n",
              "2                                            Los amo       5   \n",
              "3  I got this music app so I could download songs...       1   \n",
              "4  I tunes don’t have all the songs like to liste...       4   \n",
              "\n",
              "                       date  sentiment  \n",
              "0 2025-05-21 18:57:56-07:00     0.0000  \n",
              "1 2025-05-21 18:56:41-07:00    -0.6958  \n",
              "2 2025-05-21 18:56:12-07:00     0.0000  \n",
              "3 2025-05-21 18:50:34-07:00    -0.5647  \n",
              "4 2025-05-21 18:50:04-07:00     0.1901  "
            ],
            "text/html": [
              "\n",
              "  <div id=\"df-dbe6e8b5-e868-4826-8062-f770449a46e9\" class=\"colab-df-container\">\n",
              "    <div>\n",
              "<style scoped>\n",
              "    .dataframe tbody tr th:only-of-type {\n",
              "        vertical-align: middle;\n",
              "    }\n",
              "\n",
              "    .dataframe tbody tr th {\n",
              "        vertical-align: top;\n",
              "    }\n",
              "\n",
              "    .dataframe thead th {\n",
              "        text-align: right;\n",
              "    }\n",
              "</style>\n",
              "<table border=\"1\" class=\"dataframe\">\n",
              "  <thead>\n",
              "    <tr style=\"text-align: right;\">\n",
              "      <th></th>\n",
              "      <th>app</th>\n",
              "      <th>country</th>\n",
              "      <th>title</th>\n",
              "      <th>review</th>\n",
              "      <th>rating</th>\n",
              "      <th>date</th>\n",
              "      <th>sentiment</th>\n",
              "    </tr>\n",
              "  </thead>\n",
              "  <tbody>\n",
              "    <tr>\n",
              "      <th>0</th>\n",
              "      <td>Spotify</td>\n",
              "      <td>MX</td>\n",
              "      <td>Muy buena aplicación de música. Casi sin anunc...</td>\n",
              "      <td>La</td>\n",
              "      <td>5</td>\n",
              "      <td>2025-05-21 18:57:56-07:00</td>\n",
              "      <td>0.0000</td>\n",
              "    </tr>\n",
              "    <tr>\n",
              "      <th>1</th>\n",
              "      <td>SoundCloud</td>\n",
              "      <td>US</td>\n",
              "      <td>I have loved you from day 1 bi</td>\n",
              "      <td>Nah fr tho, omm nothing but love for SoundClou...</td>\n",
              "      <td>5</td>\n",
              "      <td>2025-05-21 18:56:41-07:00</td>\n",
              "      <td>-0.6958</td>\n",
              "    </tr>\n",
              "    <tr>\n",
              "      <th>2</th>\n",
              "      <td>Spotify</td>\n",
              "      <td>MX</td>\n",
              "      <td>Los amo</td>\n",
              "      <td>Los amo</td>\n",
              "      <td>5</td>\n",
              "      <td>2025-05-21 18:56:12-07:00</td>\n",
              "      <td>0.0000</td>\n",
              "    </tr>\n",
              "    <tr>\n",
              "      <th>3</th>\n",
              "      <td>Deezer</td>\n",
              "      <td>US</td>\n",
              "      <td>Must have a premium account to download music</td>\n",
              "      <td>I got this music app so I could download songs...</td>\n",
              "      <td>1</td>\n",
              "      <td>2025-05-21 18:50:34-07:00</td>\n",
              "      <td>-0.5647</td>\n",
              "    </tr>\n",
              "    <tr>\n",
              "      <th>4</th>\n",
              "      <td>Apple Music</td>\n",
              "      <td>US</td>\n",
              "      <td>4 star</td>\n",
              "      <td>I tunes don’t have all the songs like to liste...</td>\n",
              "      <td>4</td>\n",
              "      <td>2025-05-21 18:50:04-07:00</td>\n",
              "      <td>0.1901</td>\n",
              "    </tr>\n",
              "  </tbody>\n",
              "</table>\n",
              "</div>\n",
              "    <div class=\"colab-df-buttons\">\n",
              "\n",
              "  <div class=\"colab-df-container\">\n",
              "    <button class=\"colab-df-convert\" onclick=\"convertToInteractive('df-dbe6e8b5-e868-4826-8062-f770449a46e9')\"\n",
              "            title=\"Convert this dataframe to an interactive table.\"\n",
              "            style=\"display:none;\">\n",
              "\n",
              "  <svg xmlns=\"http://www.w3.org/2000/svg\" height=\"24px\" viewBox=\"0 -960 960 960\">\n",
              "    <path d=\"M120-120v-720h720v720H120Zm60-500h600v-160H180v160Zm220 220h160v-160H400v160Zm0 220h160v-160H400v160ZM180-400h160v-160H180v160Zm440 0h160v-160H620v160ZM180-180h160v-160H180v160Zm440 0h160v-160H620v160Z\"/>\n",
              "  </svg>\n",
              "    </button>\n",
              "\n",
              "  <style>\n",
              "    .colab-df-container {\n",
              "      display:flex;\n",
              "      gap: 12px;\n",
              "    }\n",
              "\n",
              "    .colab-df-convert {\n",
              "      background-color: #E8F0FE;\n",
              "      border: none;\n",
              "      border-radius: 50%;\n",
              "      cursor: pointer;\n",
              "      display: none;\n",
              "      fill: #1967D2;\n",
              "      height: 32px;\n",
              "      padding: 0 0 0 0;\n",
              "      width: 32px;\n",
              "    }\n",
              "\n",
              "    .colab-df-convert:hover {\n",
              "      background-color: #E2EBFA;\n",
              "      box-shadow: 0px 1px 2px rgba(60, 64, 67, 0.3), 0px 1px 3px 1px rgba(60, 64, 67, 0.15);\n",
              "      fill: #174EA6;\n",
              "    }\n",
              "\n",
              "    .colab-df-buttons div {\n",
              "      margin-bottom: 4px;\n",
              "    }\n",
              "\n",
              "    [theme=dark] .colab-df-convert {\n",
              "      background-color: #3B4455;\n",
              "      fill: #D2E3FC;\n",
              "    }\n",
              "\n",
              "    [theme=dark] .colab-df-convert:hover {\n",
              "      background-color: #434B5C;\n",
              "      box-shadow: 0px 1px 3px 1px rgba(0, 0, 0, 0.15);\n",
              "      filter: drop-shadow(0px 1px 2px rgba(0, 0, 0, 0.3));\n",
              "      fill: #FFFFFF;\n",
              "    }\n",
              "  </style>\n",
              "\n",
              "    <script>\n",
              "      const buttonEl =\n",
              "        document.querySelector('#df-dbe6e8b5-e868-4826-8062-f770449a46e9 button.colab-df-convert');\n",
              "      buttonEl.style.display =\n",
              "        google.colab.kernel.accessAllowed ? 'block' : 'none';\n",
              "\n",
              "      async function convertToInteractive(key) {\n",
              "        const element = document.querySelector('#df-dbe6e8b5-e868-4826-8062-f770449a46e9');\n",
              "        const dataTable =\n",
              "          await google.colab.kernel.invokeFunction('convertToInteractive',\n",
              "                                                    [key], {});\n",
              "        if (!dataTable) return;\n",
              "\n",
              "        const docLinkHtml = 'Like what you see? Visit the ' +\n",
              "          '<a target=\"_blank\" href=https://colab.research.google.com/notebooks/data_table.ipynb>data table notebook</a>'\n",
              "          + ' to learn more about interactive tables.';\n",
              "        element.innerHTML = '';\n",
              "        dataTable['output_type'] = 'display_data';\n",
              "        await google.colab.output.renderOutput(dataTable, element);\n",
              "        const docLink = document.createElement('div');\n",
              "        docLink.innerHTML = docLinkHtml;\n",
              "        element.appendChild(docLink);\n",
              "      }\n",
              "    </script>\n",
              "  </div>\n",
              "\n",
              "\n",
              "    <div id=\"df-2b7b7931-b70a-4b70-aa44-cee365f5aa3b\">\n",
              "      <button class=\"colab-df-quickchart\" onclick=\"quickchart('df-2b7b7931-b70a-4b70-aa44-cee365f5aa3b')\"\n",
              "                title=\"Suggest charts\"\n",
              "                style=\"display:none;\">\n",
              "\n",
              "<svg xmlns=\"http://www.w3.org/2000/svg\" height=\"24px\"viewBox=\"0 0 24 24\"\n",
              "     width=\"24px\">\n",
              "    <g>\n",
              "        <path d=\"M19 3H5c-1.1 0-2 .9-2 2v14c0 1.1.9 2 2 2h14c1.1 0 2-.9 2-2V5c0-1.1-.9-2-2-2zM9 17H7v-7h2v7zm4 0h-2V7h2v10zm4 0h-2v-4h2v4z\"/>\n",
              "    </g>\n",
              "</svg>\n",
              "      </button>\n",
              "\n",
              "<style>\n",
              "  .colab-df-quickchart {\n",
              "      --bg-color: #E8F0FE;\n",
              "      --fill-color: #1967D2;\n",
              "      --hover-bg-color: #E2EBFA;\n",
              "      --hover-fill-color: #174EA6;\n",
              "      --disabled-fill-color: #AAA;\n",
              "      --disabled-bg-color: #DDD;\n",
              "  }\n",
              "\n",
              "  [theme=dark] .colab-df-quickchart {\n",
              "      --bg-color: #3B4455;\n",
              "      --fill-color: #D2E3FC;\n",
              "      --hover-bg-color: #434B5C;\n",
              "      --hover-fill-color: #FFFFFF;\n",
              "      --disabled-bg-color: #3B4455;\n",
              "      --disabled-fill-color: #666;\n",
              "  }\n",
              "\n",
              "  .colab-df-quickchart {\n",
              "    background-color: var(--bg-color);\n",
              "    border: none;\n",
              "    border-radius: 50%;\n",
              "    cursor: pointer;\n",
              "    display: none;\n",
              "    fill: var(--fill-color);\n",
              "    height: 32px;\n",
              "    padding: 0;\n",
              "    width: 32px;\n",
              "  }\n",
              "\n",
              "  .colab-df-quickchart:hover {\n",
              "    background-color: var(--hover-bg-color);\n",
              "    box-shadow: 0 1px 2px rgba(60, 64, 67, 0.3), 0 1px 3px 1px rgba(60, 64, 67, 0.15);\n",
              "    fill: var(--button-hover-fill-color);\n",
              "  }\n",
              "\n",
              "  .colab-df-quickchart-complete:disabled,\n",
              "  .colab-df-quickchart-complete:disabled:hover {\n",
              "    background-color: var(--disabled-bg-color);\n",
              "    fill: var(--disabled-fill-color);\n",
              "    box-shadow: none;\n",
              "  }\n",
              "\n",
              "  .colab-df-spinner {\n",
              "    border: 2px solid var(--fill-color);\n",
              "    border-color: transparent;\n",
              "    border-bottom-color: var(--fill-color);\n",
              "    animation:\n",
              "      spin 1s steps(1) infinite;\n",
              "  }\n",
              "\n",
              "  @keyframes spin {\n",
              "    0% {\n",
              "      border-color: transparent;\n",
              "      border-bottom-color: var(--fill-color);\n",
              "      border-left-color: var(--fill-color);\n",
              "    }\n",
              "    20% {\n",
              "      border-color: transparent;\n",
              "      border-left-color: var(--fill-color);\n",
              "      border-top-color: var(--fill-color);\n",
              "    }\n",
              "    30% {\n",
              "      border-color: transparent;\n",
              "      border-left-color: var(--fill-color);\n",
              "      border-top-color: var(--fill-color);\n",
              "      border-right-color: var(--fill-color);\n",
              "    }\n",
              "    40% {\n",
              "      border-color: transparent;\n",
              "      border-right-color: var(--fill-color);\n",
              "      border-top-color: var(--fill-color);\n",
              "    }\n",
              "    60% {\n",
              "      border-color: transparent;\n",
              "      border-right-color: var(--fill-color);\n",
              "    }\n",
              "    80% {\n",
              "      border-color: transparent;\n",
              "      border-right-color: var(--fill-color);\n",
              "      border-bottom-color: var(--fill-color);\n",
              "    }\n",
              "    90% {\n",
              "      border-color: transparent;\n",
              "      border-bottom-color: var(--fill-color);\n",
              "    }\n",
              "  }\n",
              "</style>\n",
              "\n",
              "      <script>\n",
              "        async function quickchart(key) {\n",
              "          const quickchartButtonEl =\n",
              "            document.querySelector('#' + key + ' button');\n",
              "          quickchartButtonEl.disabled = true;  // To prevent multiple clicks.\n",
              "          quickchartButtonEl.classList.add('colab-df-spinner');\n",
              "          try {\n",
              "            const charts = await google.colab.kernel.invokeFunction(\n",
              "                'suggestCharts', [key], {});\n",
              "          } catch (error) {\n",
              "            console.error('Error during call to suggestCharts:', error);\n",
              "          }\n",
              "          quickchartButtonEl.classList.remove('colab-df-spinner');\n",
              "          quickchartButtonEl.classList.add('colab-df-quickchart-complete');\n",
              "        }\n",
              "        (() => {\n",
              "          let quickchartButtonEl =\n",
              "            document.querySelector('#df-2b7b7931-b70a-4b70-aa44-cee365f5aa3b button');\n",
              "          quickchartButtonEl.style.display =\n",
              "            google.colab.kernel.accessAllowed ? 'block' : 'none';\n",
              "        })();\n",
              "      </script>\n",
              "    </div>\n",
              "\n",
              "    </div>\n",
              "  </div>\n"
            ],
            "application/vnd.google.colaboratory.intrinsic+json": {
              "type": "dataframe",
              "variable_name": "df",
              "summary": "{\n  \"name\": \"df\",\n  \"rows\": 5640,\n  \"fields\": [\n    {\n      \"column\": \"app\",\n      \"properties\": {\n        \"dtype\": \"category\",\n        \"num_unique_values\": 6,\n        \"samples\": [\n          \"Spotify\",\n          \"SoundCloud\",\n          \"TIDAL\"\n        ],\n        \"semantic_type\": \"\",\n        \"description\": \"\"\n      }\n    },\n    {\n      \"column\": \"country\",\n      \"properties\": {\n        \"dtype\": \"category\",\n        \"num_unique_values\": 20,\n        \"samples\": [\n          \"MX\",\n          \"KR\",\n          \"FI\"\n        ],\n        \"semantic_type\": \"\",\n        \"description\": \"\"\n      }\n    },\n    {\n      \"column\": \"title\",\n      \"properties\": {\n        \"dtype\": \"string\",\n        \"num_unique_values\": 4788,\n        \"samples\": [\n          \"\\u52a9\\u3051\\u3066\",\n          \"Excelente app\",\n          \"Magique !\\u00a0\"\n        ],\n        \"semantic_type\": \"\",\n        \"description\": \"\"\n      }\n    },\n    {\n      \"column\": \"review\",\n      \"properties\": {\n        \"dtype\": \"string\",\n        \"num_unique_values\": 5540,\n        \"samples\": [\n          \"\\u0e09\\u0e31\\u0e19\\u0e23\\u0e31\\u0e01\\u0e17\\u0e35\\u0e48\\u0e08\\u0e30\\u0e1f\\u0e31\\u0e07\\u0e40\\u0e1e\\u0e25\\u0e07\\u0e21\\u0e35\\u0e41\\u0e15\\u0e48\\u0e40\\u0e1e\\u0e25\\u0e07\\u0e40\\u0e1e\\u0e23\\u0e32\\u0e30\\u0e46\",\n          \"The Nest\",\n          \"Utrolig bra lyd\"\n        ],\n        \"semantic_type\": \"\",\n        \"description\": \"\"\n      }\n    },\n    {\n      \"column\": \"rating\",\n      \"properties\": {\n        \"dtype\": \"number\",\n        \"std\": 1,\n        \"min\": 1,\n        \"max\": 5,\n        \"num_unique_values\": 5,\n        \"samples\": [\n          1,\n          3,\n          4\n        ],\n        \"semantic_type\": \"\",\n        \"description\": \"\"\n      }\n    },\n    {\n      \"column\": \"date\",\n      \"properties\": {\n        \"dtype\": \"date\",\n        \"min\": \"2010-06-07 00:46:35-07:00\",\n        \"max\": \"2025-05-21 18:57:56-07:00\",\n        \"num_unique_values\": 5637,\n        \"samples\": [\n          \"2025-05-03 04:04:59-07:00\",\n          \"2025-05-19 03:52:14-07:00\",\n          \"2025-05-10 14:58:01-07:00\"\n        ],\n        \"semantic_type\": \"\",\n        \"description\": \"\"\n      }\n    },\n    {\n      \"column\": \"sentiment\",\n      \"properties\": {\n        \"dtype\": \"number\",\n        \"std\": 0.42887236132107964,\n        \"min\": -0.9928,\n        \"max\": 0.9983,\n        \"num_unique_values\": 1158,\n        \"samples\": [\n          -0.2728,\n          0.9103,\n          -0.7333\n        ],\n        \"semantic_type\": \"\",\n        \"description\": \"\"\n      }\n    }\n  ]\n}"
            }
          },
          "metadata": {},
          "execution_count": 5
        }
      ],
      "execution_count": 5
    },
    {
      "cell_type": "markdown",
      "source": [
        "# Sentiment by Country"
      ],
      "metadata": {
        "id": "QZC09xiRaBkO"
      }
    },
    {
      "cell_type": "code",
      "source": [
        "country_sentiment = df.groupby(\"country\")[\"sentiment\"].mean().reset_index()\n",
        "country_sentiment = country_sentiment.sort_values(by=\"sentiment\")\n",
        "\n",
        "plt.figure(figsize=(12, 6))\n",
        "sns.barplot(data=country_sentiment, x=\"sentiment\", y=\"country\", palette=\"coolwarm\")\n",
        "plt.title(\"Average Sentiment by Country\")\n",
        "plt.xlabel(\"Avg Compound Sentiment\")\n",
        "plt.ylabel(\"Country\")\n",
        "sns.despine()\n",
        "plt.grid(True)\n",
        "plt.show()"
      ],
      "metadata": {
        "trusted": true,
        "execution": {
          "iopub.status.busy": "2025-05-23T11:47:29.082232Z",
          "iopub.execute_input": "2025-05-23T11:47:29.082529Z",
          "iopub.status.idle": "2025-05-23T11:47:29.369977Z",
          "shell.execute_reply.started": "2025-05-23T11:47:29.0825Z",
          "shell.execute_reply": "2025-05-23T11:47:29.368755Z"
        },
        "id": "KD0yHFEmaBkO",
        "colab": {
          "base_uri": "https://localhost:8080/",
          "height": 564
        },
        "outputId": "e10d5d98-ff52-4077-9d95-acdabca83080"
      },
      "outputs": [
        {
          "output_type": "display_data",
          "data": {
            "text/plain": [
              "<Figure size 1200x600 with 1 Axes>"
            ],
            "image/png": "[encoded data removed]"
          },
          "metadata": {}
        }
      ],
      "execution_count": 6
    },
    {
      "cell_type": "markdown",
      "source": [
        "Some regions are consistently more critical or enthusiastic — reflecting expectations, pricing, and local competition."
      ],
      "metadata": {
        "id": "ff1-oyXDaBkO"
      }
    },
    {
      "cell_type": "markdown",
      "source": [
        "# Review Length vs. Rating"
      ],
      "metadata": {
        "id": "Xjoepy9saBkO"
      }
    },
    {
      "cell_type": "code",
      "source": [
        "df[\"length\"] = df[\"review\"].apply(len)\n",
        "sns.boxplot(data=df, x=\"rating\", y=\"length\", palette=\"mako\")\n",
        "plt.title(\"Review Length Distribution by Star Rating\")\n",
        "plt.xlabel(\"Rating\")\n",
        "plt.ylabel(\"Review Length (chars)\")\n",
        "plt.grid(True)\n",
        "sns.despine()\n",
        "plt.show()"
      ],
      "metadata": {
        "trusted": true,
        "execution": {
          "iopub.status.busy": "2025-05-23T11:47:29.370904Z",
          "iopub.execute_input": "2025-05-23T11:47:29.371157Z",
          "iopub.status.idle": "2025-05-23T11:47:29.558549Z",
          "shell.execute_reply.started": "2025-05-23T11:47:29.371138Z",
          "shell.execute_reply": "2025-05-23T11:47:29.557754Z"
        },
        "id": "R_o2eZBRaBkP",
        "colab": {
          "base_uri": "https://localhost:8080/",
          "height": 472
        },
        "outputId": "04b9b0fc-b5ec-44fb-f2f5-b5bbf280ddd8"
      },
      "outputs": [
        {
          "output_type": "display_data",
          "data": {
            "text/plain": [
              "<Figure size 640x480 with 1 Axes>"
            ],
            "image/png": "[encoded data removed]"
          },
          "metadata": {}
        }
      ],
      "execution_count": 7
    },
    {
      "cell_type": "markdown",
      "source": [
        "Longer reviews tend to accompany both praise and complaints — showing higher engagement from both ends of the satisfaction spectrum."
      ],
      "metadata": {
        "id": "M4kzKBx-aBkP"
      }
    },
    {
      "cell_type": "markdown",
      "source": [
        "# Top Positive vs. Negative Keywords\n",
        "To understand the language used in very positive and very negative reviews, we filter based on sentiment thresholds: compound score > 0.6 for positive, < -0.4 for negative. We then use `CountVectorizer` to find the most common terms used in each class."
      ],
      "metadata": {
        "id": "Z42b4GehaBkP"
      }
    },
    {
      "cell_type": "code",
      "source": [
        "positive = df[df[\"sentiment\"] > 0.6][\"review\"]\n",
        "negative = df[df[\"sentiment\"] < -0.4][\"review\"]\n",
        "\n",
        "vectorizer = CountVectorizer(stop_words=\"english\", max_features=50)\n",
        "pos_counts = np.sum(vectorizer.fit_transform(positive).toarray(), axis=0)\n",
        "pos_words = vectorizer.get_feature_names_out()\n",
        "pos_freq = pd.DataFrame({\"word\": pos_words, \"freq\": pos_counts}).sort_values(\"freq\", ascending=False)\n",
        "\n",
        "vectorizer = CountVectorizer(stop_words=\"english\", max_features=50)\n",
        "neg_counts = np.sum(vectorizer.fit_transform(negative).toarray(), axis=0)\n",
        "neg_words = vectorizer.get_feature_names_out()\n",
        "neg_freq = pd.DataFrame({\"word\": neg_words, \"freq\": neg_counts}).sort_values(\"freq\", ascending=False)\n",
        "\n",
        "fig, axs = plt.subplots(1, 2, figsize=(16, 6))\n",
        "sns.barplot(data=pos_freq.head(10), x=\"freq\", y=\"word\", ax=axs[0], palette=\"crest\")\n",
        "axs[0].set_title(\"Top Positive Keywords\")\n",
        "sns.barplot(data=neg_freq.head(10), x=\"freq\", y=\"word\", ax=axs[1], palette=\"rocket\")\n",
        "axs[1].set_title(\"Top Negative Keywords\")\n",
        "plt.tight_layout()\n",
        "plt.show()"
      ],
      "metadata": {
        "trusted": true,
        "execution": {
          "iopub.status.busy": "2025-05-23T11:47:29.559449Z",
          "iopub.execute_input": "2025-05-23T11:47:29.559659Z",
          "iopub.status.idle": "2025-05-23T11:47:30.052499Z",
          "shell.execute_reply.started": "2025-05-23T11:47:29.559642Z",
          "shell.execute_reply": "2025-05-23T11:47:30.051607Z"
        },
        "id": "Ac5gigQfaBkP",
        "colab": {
          "base_uri": "https://localhost:8080/",
          "height": 394
        },
        "outputId": "a69db8a0-af3e-40cb-82a2-27d5866f33aa"
      },
      "outputs": [
        {
          "output_type": "display_data",
          "data": {
            "text/plain": [
              "<Figure size 1600x600 with 2 Axes>"
            ],
            "image/png": "[encoded data removed]"
          },
          "metadata": {}
        }
      ],
      "execution_count": 8
    },
    {
      "cell_type": "markdown",
      "source": [
        "# Emoji Usage Heatmap\n",
        "Emojis are emotionally expressive elements often overlooked in review mining. We extract and count emoji characters from all reviews to reveal which emotions dominate user feedback in visual form."
      ],
      "metadata": {
        "id": "_Fr735N9aBkQ"
      }
    },
    {
      "cell_type": "code",
      "source": [
        "def extract_emojis(s):\n",
        "    return ''.join(c for c in s if c in emoji.EMOJI_DATA)\n",
        "\n",
        "df[\"emojis\"] = df[\"review\"].apply(extract_emojis)\n",
        "all_emojis = ''.join(df[\"emojis\"].dropna().values)\n",
        "emoji_counts = Counter(all_emojis)\n",
        "emoji_df = pd.DataFrame(emoji_counts.items(), columns=[\"emoji\", \"count\"])\n",
        "emoji_df = emoji_df.sort_values(\"count\", ascending=False).head(20)\n",
        "\n",
        "plt.figure(figsize=(10, 6))\n",
        "sns.barplot(data=emoji_df, x=\"count\", y=\"emoji\", palette=\"flare\")\n",
        "plt.title(\"Most Frequently Used Emojis in Reviews\")\n",
        "sns.despine()\n",
        "plt.grid(True)\n",
        "plt.show()"
      ],
      "metadata": {
        "trusted": true,
        "execution": {
          "iopub.status.busy": "2025-05-23T11:47:30.053323Z",
          "iopub.execute_input": "2025-05-23T11:47:30.053582Z",
          "iopub.status.idle": "2025-05-23T11:47:30.377433Z",
          "shell.execute_reply.started": "2025-05-23T11:47:30.053562Z",
          "shell.execute_reply": "2025-05-23T11:47:30.376593Z"
        },
        "id": "tFXWGsRKaBkQ",
        "colab": {
          "base_uri": "https://localhost:8080/",
          "height": 564
        },
        "outputId": "7544454d-2476-40fc-9ea2-36e0b9e06a27"
      },
      "outputs": [
        {
          "output_type": "display_data",
          "data": {
            "text/plain": [
              "<Figure size 1000x600 with 1 Axes>"
            ],
            "image/png": "[encoded data removed]"
          },
          "metadata": {}
        }
      ],
      "execution_count": 9
    }
  ]
}